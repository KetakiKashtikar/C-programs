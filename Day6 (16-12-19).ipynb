{
 "cells": [
  {
   "cell_type": "markdown",
   "metadata": {},
   "source": [
    "### For Loops"
   ]
  },
  {
   "cell_type": "code",
   "execution_count": 2,
   "metadata": {},
   "outputs": [
    {
     "name": "stdout",
     "output_type": "stream",
     "text": [
      "g\n",
      "i\n",
      "t\n",
      "a\n",
      "m\n"
     ]
    }
   ],
   "source": [
    "for i in \"gitam\":\n",
    "    print(i);"
   ]
  },
  {
   "cell_type": "code",
   "execution_count": 4,
   "metadata": {},
   "outputs": [
    {
     "name": "stdout",
     "output_type": "stream",
     "text": [
      "0\t1\t2\t3\t4\t"
     ]
    }
   ],
   "source": [
    "for i in range(5):\n",
    "    print(i, end='\\t');\n",
    "# range(start, stop, step)\n",
    "# range(stop)\n",
    "# range(start, stop)"
   ]
  },
  {
   "cell_type": "code",
   "execution_count": 5,
   "metadata": {},
   "outputs": [
    {
     "name": "stdout",
     "output_type": "stream",
     "text": [
      "1\n",
      "3\n",
      "5\n",
      "7\n",
      "9\n"
     ]
    }
   ],
   "source": [
    "for i in range(1, 10, 2):\n",
    "    print(i);"
   ]
  },
  {
   "cell_type": "code",
   "execution_count": 8,
   "metadata": {},
   "outputs": [
    {
     "name": "stdout",
     "output_type": "stream",
     "text": [
      "-1\n",
      "-3\n",
      "-5\n",
      "-7\n",
      "-9\n"
     ]
    }
   ],
   "source": [
    "for i in range(-1, -10, -2):\n",
    "    print(i);"
   ]
  },
  {
   "cell_type": "code",
   "execution_count": 12,
   "metadata": {},
   "outputs": [
    {
     "ename": "TypeError",
     "evalue": "'float' object cannot be interpreted as an integer",
     "output_type": "error",
     "traceback": [
      "\u001b[1;31m---------------------------------------------------------------------------\u001b[0m",
      "\u001b[1;31mTypeError\u001b[0m                                 Traceback (most recent call last)",
      "\u001b[1;32m<ipython-input-12-92e2e4451509>\u001b[0m in \u001b[0;36m<module>\u001b[1;34m\u001b[0m\n\u001b[1;32m----> 1\u001b[1;33m \u001b[1;32mfor\u001b[0m \u001b[0mi\u001b[0m \u001b[1;32min\u001b[0m \u001b[0mrange\u001b[0m \u001b[1;33m(\u001b[0m\u001b[1;36m2.0\u001b[0m\u001b[1;33m,\u001b[0m\u001b[1;36m5.0\u001b[0m\u001b[1;33m,\u001b[0m\u001b[1;36m1\u001b[0m\u001b[1;33m)\u001b[0m\u001b[1;33m:\u001b[0m\u001b[1;33m\u001b[0m\u001b[1;33m\u001b[0m\u001b[0m\n\u001b[0m\u001b[0;32m      2\u001b[0m     \u001b[0mprint\u001b[0m\u001b[1;33m(\u001b[0m\u001b[0mfloat\u001b[0m\u001b[1;33m(\u001b[0m\u001b[0mi\u001b[0m\u001b[1;33m)\u001b[0m\u001b[1;33m)\u001b[0m\u001b[1;33m;\u001b[0m\u001b[1;33m\u001b[0m\u001b[1;33m\u001b[0m\u001b[0m\n",
      "\u001b[1;31mTypeError\u001b[0m: 'float' object cannot be interpreted as an integer"
     ]
    }
   ],
   "source": [
    "for i in range (2.0,5.0,1):\n",
    "    print(float(i));"
   ]
  },
  {
   "cell_type": "markdown",
   "metadata": {},
   "source": [
    "### Divisible by 7 numbers"
   ]
  },
  {
   "cell_type": "code",
   "execution_count": 23,
   "metadata": {},
   "outputs": [
    {
     "name": "stdout",
     "output_type": "stream",
     "text": [
      "28\t35\t42\t49\t56\t63\t70\t77\t84\t91\t98\t105\t112\t119\t126\t133\t140\t"
     ]
    }
   ],
   "source": [
    "for i in range(23, 141, 1):\n",
    "    if i%7==0:\n",
    "           print(i, end=\"\\t\");"
   ]
  },
  {
   "cell_type": "markdown",
   "metadata": {},
   "source": [
    "### Even numbers between 1 and 100"
   ]
  },
  {
   "cell_type": "code",
   "execution_count": 18,
   "metadata": {},
   "outputs": [
    {
     "name": "stdout",
     "output_type": "stream",
     "text": [
      "2\t4\t6\t8\t10\t12\t14\t16\t18\t20\t22\t24\t26\t28\t30\t32\t34\t36\t38\t40\t42\t44\t46\t48\t50\t52\t54\t56\t58\t60\t62\t64\t66\t68\t70\t72\t74\t76\t78\t80\t82\t84\t86\t88\t90\t92\t94\t96\t98\t"
     ]
    }
   ],
   "source": [
    "for i in range(2, 100, 2):\n",
    "    print(i, end='\\t');\n",
    "    "
   ]
  },
  {
   "cell_type": "markdown",
   "metadata": {},
   "source": [
    "## while syntax:\n",
    "  #### initialization \n",
    "  ####  while condition: \n",
    "  #### statements\n",
    "  #### increment / decrement(variable updation)\n",
    "   "
   ]
  },
  {
   "cell_type": "code",
   "execution_count": 26,
   "metadata": {},
   "outputs": [
    {
     "name": "stdout",
     "output_type": "stream",
     "text": [
      "28\t35\t42\t49\t56\t63\t70\t77\t84\t91\t98\t105\t112\t119\t126\t133\t140\t"
     ]
    }
   ],
   "source": [
    "i=23\n",
    "while i<=140:\n",
    "    if i%7==0:\n",
    "        print(i, end=\"\\t\")\n",
    "    i=i+1"
   ]
  },
  {
   "cell_type": "markdown",
   "metadata": {},
   "source": [
    "#### print the inputs taken till \"done\" is entered"
   ]
  },
  {
   "cell_type": "code",
   "execution_count": 30,
   "metadata": {},
   "outputs": [
    {
     "name": "stdout",
     "output_type": "stream",
     "text": [
      "Enter a number :22\n",
      "22\n",
      "Enter a number57\n",
      "57\n",
      "Enter a number01\n",
      "01\n",
      "Enter a number19\n",
      "19\n",
      "Enter a number23\n",
      "23\n",
      "Enter a number65\n",
      "65\n",
      "Enter a number59\n",
      "59\n",
      "Enter a number36\n",
      "36\n",
      "Enter a numberdone\n"
     ]
    }
   ],
   "source": [
    "n=input(\"Enter a number :\")\n",
    "while n!=\"done\":\n",
    "    print(n)\n",
    "    n = input(\"Enter a number\")\n",
    "    \n",
    "    "
   ]
  },
  {
   "cell_type": "markdown",
   "metadata": {},
   "source": [
    "### Counting vowels or Consonants"
   ]
  },
  {
   "cell_type": "code",
   "execution_count": 35,
   "metadata": {},
   "outputs": [
    {
     "name": "stdout",
     "output_type": "stream",
     "text": [
      "enter a wordlaa laaa laaa\n",
      "8\n"
     ]
    }
   ],
   "source": [
    "word=input(\"enter a word\")\n",
    "count = 0;\n",
    "for i in word:\n",
    "    if i in \"aeiouAEIOU\":\n",
    "        count=count+1\n",
    "        #print(i)\n",
    "print(count)\n",
    "    "
   ]
  },
  {
   "cell_type": "code",
   "execution_count": 39,
   "metadata": {},
   "outputs": [
    {
     "name": "stdout",
     "output_type": "stream",
     "text": [
      "enter a wordketaki\n",
      "vowels = 3 conso = 3\n"
     ]
    }
   ],
   "source": [
    "word=input(\"enter a word\")\n",
    "count1 = 0;\n",
    "count2 = 0;\n",
    "for i in word:\n",
    "    if i in \"aeiouAEIOU\":\n",
    "        count1=count1+1\n",
    "    else:\n",
    "        count2=count2+1\n",
    "        #print(i)\n",
    "print(\"vowels =\", count1, \"conso =\", count2)"
   ]
  },
  {
   "cell_type": "markdown",
   "metadata": {},
   "source": [
    "### Check if Your name is lucky or not"
   ]
  },
  {
   "cell_type": "code",
   "execution_count": 43,
   "metadata": {},
   "outputs": [
    {
     "name": "stdout",
     "output_type": "stream",
     "text": [
      "enter a wordketaki\n",
      "vowels = 3 conso = 3\n",
      "Lucky :) :)\n"
     ]
    }
   ],
   "source": [
    "word=input(\"enter a word\")\n",
    "count1 = 0;\n",
    "count2 = 0;\n",
    "for i in word:\n",
    "    if i in \"aeiouAEIOU\":\n",
    "        count1=count1+1\n",
    "    else:\n",
    "        count2=count2+1\n",
    "        #print(i)\n",
    "print(\"vowels =\", count1, \"conso =\", count2)\n",
    "if count1==count2:\n",
    "    print(\"Lucky :) :)\")\n",
    "else:\n",
    "    print(\"Unlucky :( :(\")"
   ]
  },
  {
   "cell_type": "markdown",
   "metadata": {},
   "source": [
    "### Lists"
   ]
  },
  {
   "cell_type": "code",
   "execution_count": 44,
   "metadata": {},
   "outputs": [
    {
     "data": {
      "text/plain": [
       "[34, 67, 78, 89]"
      ]
     },
     "execution_count": 44,
     "metadata": {},
     "output_type": "execute_result"
    }
   ],
   "source": [
    "marks = [34,67, 78, 89]\n",
    "marks"
   ]
  },
  {
   "cell_type": "code",
   "execution_count": 46,
   "metadata": {},
   "outputs": [
    {
     "name": "stdout",
     "output_type": "stream",
     "text": [
      "34\n",
      "67\n",
      "78\n",
      "89\n"
     ]
    }
   ],
   "source": [
    "for i in marks:\n",
    "    print(i);"
   ]
  },
  {
   "cell_type": "code",
   "execution_count": 48,
   "metadata": {},
   "outputs": [
    {
     "name": "stdout",
     "output_type": "stream",
     "text": [
      "34\n",
      "4\n",
      "89\n",
      "34\n"
     ]
    }
   ],
   "source": [
    "# To access first element\n",
    "print(marks[0])\n",
    "# No of elements in the list\n",
    "print(len(marks))\n",
    "# To access the first element from last\n",
    "print(marks[-1])\n",
    "# To access first element\n",
    "print(marks[-4])"
   ]
  },
  {
   "cell_type": "code",
   "execution_count": 49,
   "metadata": {},
   "outputs": [
    {
     "name": "stdout",
     "output_type": "stream",
     "text": [
      "[100, 67, 78, 89]\n"
     ]
    }
   ],
   "source": [
    "# Updating the value in a List\n",
    "marks[0]=100\n",
    "print(marks)"
   ]
  },
  {
   "cell_type": "code",
   "execution_count": 56,
   "metadata": {},
   "outputs": [
    {
     "data": {
      "text/plain": [
       "[2, 4, 6, 8, 10, 12, 14, 16, 18, 20, 22, 24, 26, 28, 30]"
      ]
     },
     "execution_count": 56,
     "metadata": {},
     "output_type": "execute_result"
    }
   ],
   "source": [
    "L = list(range(2,32,2))\n",
    "L"
   ]
  },
  {
   "cell_type": "code",
   "execution_count": 61,
   "metadata": {},
   "outputs": [
    {
     "name": "stdout",
     "output_type": "stream",
     "text": [
      "[2, 4, 6]\n",
      "[2, 6, 10]\n",
      "[2, 6, 10, 14, 18, 22, 26, 30]\n",
      "[30, 28, 26, 24, 22, 20, 18, 16]\n"
     ]
    }
   ],
   "source": [
    "# Slicing of a list[start:stop:step]\n",
    "\n",
    "# Printing till 3\n",
    "print(L[:3])\n",
    "# Printing till 6 skiping 2\n",
    "print(L[0:6:2])\n",
    "# To get alternate elements from the start\n",
    "print(l[0:len(L):2])\n",
    "# To print in reverse\n",
    "print(l[:6:-1])\n",
    "\n"
   ]
  },
  {
   "cell_type": "code",
   "execution_count": 81,
   "metadata": {},
   "outputs": [
    {
     "name": "stdout",
     "output_type": "stream",
     "text": [
      "[100, 68, 54, 98, 22, 35]\n",
      "[100, 68, 54, 98, 22, 35, 91]\n"
     ]
    }
   ],
   "source": [
    "# To insert a value \n",
    "print(marks)\n",
    "marks.append(91)\n",
    "print(marks)"
   ]
  },
  {
   "cell_type": "code",
   "execution_count": 82,
   "metadata": {},
   "outputs": [
    {
     "name": "stdout",
     "output_type": "stream",
     "text": [
      "[100, 68, 54, 98, 22, 35, 91]\n",
      "[100, 68, 54, 98, 22, 35]\n",
      "[100, 68, 98, 22, 35]\n"
     ]
    }
   ],
   "source": [
    "# To remove an element\n",
    "\n",
    "# Last Element\n",
    "print(marks)\n",
    "marks.pop()\n",
    "print(marks)\n",
    "\n",
    "# Index Element\n",
    "marks.pop(2)\n",
    "print(marks)\n",
    "\n"
   ]
  },
  {
   "cell_type": "code",
   "execution_count": 84,
   "metadata": {},
   "outputs": [
    {
     "name": "stdout",
     "output_type": "stream",
     "text": [
      "[100, 68, 98, 35]\n"
     ]
    }
   ],
   "source": [
    "# Remove based on value\n",
    "marks.remove(22)\n",
    "print(marks)"
   ]
  },
  {
   "cell_type": "code",
   "execution_count": 85,
   "metadata": {},
   "outputs": [
    {
     "name": "stdout",
     "output_type": "stream",
     "text": [
      "(45, 48, 52, 64, 97, 98)\n"
     ]
    }
   ],
   "source": [
    "m1=(45, 48, 52, 64, 97, 98)\n",
    "print(m1)"
   ]
  },
  {
   "cell_type": "code",
   "execution_count": 87,
   "metadata": {},
   "outputs": [
    {
     "name": "stdout",
     "output_type": "stream",
     "text": [
      "[100, 68, 98, 35, 45, 48, 52, 64, 97, 98, 45, 48, 52, 64, 97, 98]\n"
     ]
    }
   ],
   "source": [
    "# Concatenation of two lists\n",
    "marks.extend(m1)\n",
    "print(marks)"
   ]
  },
  {
   "cell_type": "code",
   "execution_count": 88,
   "metadata": {},
   "outputs": [
    {
     "name": "stdout",
     "output_type": "stream",
     "text": [
      "3\n"
     ]
    }
   ],
   "source": [
    "# TO COUNT occurences\n",
    "print(marks.count(98))"
   ]
  },
  {
   "cell_type": "markdown",
   "metadata": {},
   "source": [
    "### User defined Functions"
   ]
  },
  {
   "cell_type": "code",
   "execution_count": 99,
   "metadata": {},
   "outputs": [],
   "source": [
    "def Hello(name='cow'):\n",
    "    print(\"welcome to Gitam\", name)\n",
    "    return 'hiiiii'"
   ]
  },
  {
   "cell_type": "code",
   "execution_count": 101,
   "metadata": {},
   "outputs": [
    {
     "name": "stdout",
     "output_type": "stream",
     "text": [
      "welcome to Gitam tree\n"
     ]
    },
    {
     "data": {
      "text/plain": [
       "'hiiiii'"
      ]
     },
     "execution_count": 101,
     "metadata": {},
     "output_type": "execute_result"
    }
   ],
   "source": [
    "Hello(\"tree\")"
   ]
  },
  {
   "cell_type": "code",
   "execution_count": 102,
   "metadata": {},
   "outputs": [
    {
     "name": "stdout",
     "output_type": "stream",
     "text": [
      "welcome to Gitam cow\n"
     ]
    },
    {
     "data": {
      "text/plain": [
       "'hiiiii'"
      ]
     },
     "execution_count": 102,
     "metadata": {},
     "output_type": "execute_result"
    }
   ],
   "source": [
    "Hello()"
   ]
  },
  {
   "cell_type": "markdown",
   "metadata": {},
   "source": [
    "### Math functions"
   ]
  },
  {
   "cell_type": "code",
   "execution_count": 103,
   "metadata": {},
   "outputs": [],
   "source": [
    "def power(a,b):\n",
    "    return a**b;\n",
    "    "
   ]
  },
  {
   "cell_type": "code",
   "execution_count": 106,
   "metadata": {},
   "outputs": [
    {
     "name": "stdout",
     "output_type": "stream",
     "text": [
      "8\n"
     ]
    }
   ],
   "source": [
    "res=power(2,3)\n",
    "print (res)"
   ]
  },
  {
   "cell_type": "code",
   "execution_count": null,
   "metadata": {},
   "outputs": [],
   "source": []
  }
 ],
 "metadata": {
  "kernelspec": {
   "display_name": "Python 3",
   "language": "python",
   "name": "python3"
  },
  "language_info": {
   "codemirror_mode": {
    "name": "ipython",
    "version": 3
   },
   "file_extension": ".py",
   "mimetype": "text/x-python",
   "name": "python",
   "nbconvert_exporter": "python",
   "pygments_lexer": "ipython3",
   "version": "3.7.3"
  }
 },
 "nbformat": 4,
 "nbformat_minor": 2
}
