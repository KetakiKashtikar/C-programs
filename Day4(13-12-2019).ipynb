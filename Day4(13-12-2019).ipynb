{
 "cells": [
  {
   "cell_type": "markdown",
   "metadata": {},
   "source": [
    "### HIII Birdie\n",
    "![image](https://encrypted-tbn0.gstatic.com/images?q=tbn:ANd9GcRK_RP5yEwtubD8wDhY2nS1GHRVPqDlNaE4TZ17M4y4y9ii3Iq8Iw&s)"
   ]
  },
  {
   "cell_type": "markdown",
   "metadata": {},
   "source": [
    "##Lets put a link!!!\n",
    "[site](https://www.google.com/url?sa=i&source=images&cd=&ved=2ahUKEwjcpY-j7LHmAhXXzDgGHVsMCNUQjRx6BAgBEAQ&url=https%3A%2F%2Fthecreative.cafe%2Fwhy-you-suck-at-having-friends-748c2faa4331&psig=AOvVaw0uL3yTmvGsKlZwfDlpSQxf&ust=1576299723460308)"
   ]
  },
  {
   "cell_type": "markdown",
   "metadata": {},
   "source": [
    "### Fundamental data types\n",
    " 1. int\n",
    " 2. float\n",
    " 3. complex\n",
    " 4. Boolean\n",
    " 5. String"
   ]
  },
  {
   "cell_type": "code",
   "execution_count": 1,
   "metadata": {},
   "outputs": [
    {
     "name": "stdout",
     "output_type": "stream",
     "text": [
      "<class 'int'>\n",
      "10\n"
     ]
    }
   ],
   "source": [
    "## Basic example\n",
    "\n",
    "x=10\n",
    "print(type(x))\n",
    "print(x)"
   ]
  },
  {
   "cell_type": "code",
   "execution_count": 2,
   "metadata": {},
   "outputs": [
    {
     "name": "stdout",
     "output_type": "stream",
     "text": [
      "(5+4j)\n"
     ]
    }
   ],
   "source": [
    "a=complex(5,4)\n",
    "print(a)"
   ]
  },
  {
   "cell_type": "code",
   "execution_count": 3,
   "metadata": {},
   "outputs": [
    {
     "name": "stdout",
     "output_type": "stream",
     "text": [
      "<class 'complex'> <class 'float'> <class 'int'>\n"
     ]
    }
   ],
   "source": [
    "x=3+5j\n",
    "y= 10.25\n",
    "z=10\n",
    "print(type(x), type(y), type(z));\n"
   ]
  },
  {
   "cell_type": "code",
   "execution_count": 4,
   "metadata": {},
   "outputs": [
    {
     "name": "stdout",
     "output_type": "stream",
     "text": [
      "c1+c2= (15+16j)\n"
     ]
    }
   ],
   "source": [
    "c1=5+6j\n",
    "c2=10+10j\n",
    "print(\"c1+c2=\",c1+c2)"
   ]
  },
  {
   "cell_type": "code",
   "execution_count": 8,
   "metadata": {},
   "outputs": [
    {
     "name": "stdout",
     "output_type": "stream",
     "text": [
      "enter a, b\n",
      "10\n",
      "20\n"
     ]
    },
    {
     "data": {
      "text/plain": [
       "30"
      ]
     },
     "execution_count": 8,
     "metadata": {},
     "output_type": "execute_result"
    }
   ],
   "source": [
    "print(\"enter a, b\")\n",
    "a=input('')\n",
    "b=input('')\n",
    "int(a)+int(b)\n"
   ]
  },
  {
   "cell_type": "code",
   "execution_count": 7,
   "metadata": {},
   "outputs": [
    {
     "name": "stdout",
     "output_type": "stream",
     "text": [
      "<class 'str'>\n",
      "<class 'str'>\n"
     ]
    },
    {
     "data": {
      "text/plain": [
       "'abcefg'"
      ]
     },
     "execution_count": 7,
     "metadata": {},
     "output_type": "execute_result"
    }
   ],
   "source": [
    "s1=\"abc\"\n",
    "s2=\"efg\"\n",
    "print(type(s1))\n",
    "print(type(s2))\n",
    "s1+s2"
   ]
  },
  {
   "cell_type": "code",
   "execution_count": 6,
   "metadata": {},
   "outputs": [
    {
     "data": {
      "text/plain": [
       "True"
      ]
     },
     "execution_count": 6,
     "metadata": {},
     "output_type": "execute_result"
    }
   ],
   "source": [
    "a=10\n",
    "b=5\n",
    "a>b"
   ]
  },
  {
   "cell_type": "code",
   "execution_count": 14,
   "metadata": {},
   "outputs": [
    {
     "name": "stdout",
     "output_type": "stream",
     "text": [
      "<class 'int'>\n",
      "100\n",
      "<class 'str'>\n",
      "100\n",
      "<class 'float'>\n",
      "100.0\n"
     ]
    }
   ],
   "source": [
    "## Data type conversions\n",
    "i=100\n",
    "print(type(i))\n",
    "print(i)\n",
    "s1=str(i)\n",
    "print(type(s1))\n",
    "print(s1)\n",
    "f1=float(i)\n",
    "print(type(f1))\n",
    "print(f1)"
   ]
  },
  {
   "cell_type": "code",
   "execution_count": 15,
   "metadata": {},
   "outputs": [
    {
     "name": "stdout",
     "output_type": "stream",
     "text": [
      "<class 'str'>\n",
      "<class 'int'>\n",
      "<class 'int'>\n",
      "2\n"
     ]
    }
   ],
   "source": [
    "s1 =\"200\"\n",
    "print(type(s1))\n",
    "b = int(s1)\n",
    "print (type(b))\n",
    "f=2.5\n",
    "s=int(2.5)\n",
    "print(type(s))\n",
    "print(s)"
   ]
  },
  {
   "cell_type": "code",
   "execution_count": 19,
   "metadata": {},
   "outputs": [
    {
     "name": "stdout",
     "output_type": "stream",
     "text": [
      "5\n"
     ]
    }
   ],
   "source": [
    "# a number is given 23456\n",
    "# Digit Count\n",
    "s = 23456\n",
    "print(len(str(s)))"
   ]
  },
  {
   "cell_type": "markdown",
   "metadata": {},
   "source": [
    "## Operators\n",
    " 1. Arithmetic operators ------> +, -,\n",
    " 2. Logical operators ------>\n",
    " 3. Relational operators ------>\n",
    " 4. Membership operators ------>"
   ]
  },
  {
   "cell_type": "code",
   "execution_count": 21,
   "metadata": {},
   "outputs": [
    {
     "name": "stdout",
     "output_type": "stream",
     "text": [
      "15\n",
      "5\n",
      "50\n",
      "2.0\n",
      "100000\n",
      "2\n",
      "0\n"
     ]
    }
   ],
   "source": [
    "a=10\n",
    "b=5\n",
    "print(a+b)\n",
    "print(a-b)\n",
    "print(a*b)\n",
    "print(a/b)\n",
    "print(a**b) #used for power\n",
    "print(a//b) #float values dont come\n",
    "print(a%b) #used for remainder\n"
   ]
  },
  {
   "cell_type": "code",
   "execution_count": 23,
   "metadata": {},
   "outputs": [
    {
     "name": "stdout",
     "output_type": "stream",
     "text": [
      "False\n",
      "True\n",
      "False\n",
      "True\n"
     ]
    }
   ],
   "source": [
    "# Relational Operator\n",
    "x=30\n",
    "y=10\n",
    "print(x==y)\n",
    "print(x!=y)\n",
    "print(x<y)\n",
    "print(x>y)"
   ]
  },
  {
   "cell_type": "code",
   "execution_count": 29,
   "metadata": {},
   "outputs": [
    {
     "name": "stdout",
     "output_type": "stream",
     "text": [
      "30\n",
      "10\n",
      "True\n",
      "True\n",
      "False\n"
     ]
    }
   ],
   "source": [
    "#Logical Operator\n",
    "x=input()\n",
    "y=input()\n",
    "print(int(x)>=10 and int(y)<=20)\n",
    "print(int(x)>=5 or int(y)<=20)\n",
    "print(not int(x))"
   ]
  },
  {
   "cell_type": "code",
   "execution_count": 31,
   "metadata": {},
   "outputs": [
    {
     "name": "stdout",
     "output_type": "stream",
     "text": [
      "tree\n",
      "False\n",
      "True\n"
     ]
    }
   ],
   "source": [
    "x=input()\n",
    "print('a' in x)\n",
    "print('a' not in x)"
   ]
  },
  {
   "cell_type": "markdown",
   "metadata": {},
   "source": [
    "## Conditional Statements\n",
    " 1. if\n",
    " 2. elif\n",
    " 3. else\n",
    " \n",
    " Syntax\n",
    " - if condition\n",
    "     - statements\n",
    " - elif condition\n",
    "     - statements\n",
    " - else \n",
    "     - statments"
   ]
  },
  {
   "cell_type": "code",
   "execution_count": 40,
   "metadata": {},
   "outputs": [
    {
     "name": "stdout",
     "output_type": "stream",
     "text": [
      "5\n",
      "less\n"
     ]
    }
   ],
   "source": [
    "a = int(input())\n",
    "if a<10 :\n",
    " print(\"less\")\n",
    "elif a>10 and a<70 :\n",
    " print(\"middle\")\n",
    "else:\n",
    " print(\"more\")"
   ]
  },
  {
   "cell_type": "markdown",
   "metadata": {},
   "source": [
    "### Even Or Odd"
   ]
  },
  {
   "cell_type": "code",
   "execution_count": 43,
   "metadata": {},
   "outputs": [
    {
     "name": "stdout",
     "output_type": "stream",
     "text": [
      "enter a number\n",
      "24\n",
      "even\n"
     ]
    }
   ],
   "source": [
    "print(\"enter a number\")\n",
    "n= int( input())\n",
    "if n%2 ==0 :\n",
    "    print(\"even\")\n",
    "else: \n",
    "    print(\"Odd\")"
   ]
  },
  {
   "cell_type": "markdown",
   "metadata": {},
   "source": [
    "### Greater of 3 NUMBERS"
   ]
  },
  {
   "cell_type": "code",
   "execution_count": 44,
   "metadata": {},
   "outputs": [
    {
     "name": "stdout",
     "output_type": "stream",
     "text": [
      "enter a, b, c\n",
      "12\n",
      "34\n",
      "13\n",
      "B is greater\n"
     ]
    }
   ],
   "source": [
    "print(\"enter a, b, c\")\n",
    "a=int(input())\n",
    "b=int(input())\n",
    "c=int(input())\n",
    "if a>b and a>c:\n",
    "    print(\"A is greater\")\n",
    "elif b>a and b>c:\n",
    "    print(\"B is greater\")\n",
    "else :\n",
    "    print(\"C is greater\")"
   ]
  },
  {
   "cell_type": "markdown",
   "metadata": {},
   "source": [
    "### Multiple of 3 and 5"
   ]
  },
  {
   "cell_type": "code",
   "execution_count": 48,
   "metadata": {},
   "outputs": [
    {
     "name": "stdout",
     "output_type": "stream",
     "text": [
      "enter a number\n",
      "38\n",
      "not multiple\n"
     ]
    }
   ],
   "source": [
    "print(\"enter a number\")\n",
    "a=int(input())\n",
    "if a%3==0 and a%5==0:\n",
    "    print(\"Multiple of 3 and 5\")\n",
    "elif a%3==0:\n",
    "    print(\"Multiple of 3\")\n",
    "elif a%5==0:\n",
    "    print(\"Multiple of 5\")\n",
    "else:\n",
    "    print(\"not multiple\")"
   ]
  },
  {
   "cell_type": "markdown",
   "metadata": {},
   "source": [
    "### Positive, negative or zero "
   ]
  },
  {
   "cell_type": "code",
   "execution_count": 51,
   "metadata": {},
   "outputs": [
    {
     "name": "stdout",
     "output_type": "stream",
     "text": [
      "enter a number\n",
      "000\n",
      "Zero\n"
     ]
    }
   ],
   "source": [
    "print(\"enter a number\")\n",
    "a=int(input())\n",
    "if(a>0):\n",
    "    print(\"Positive\")\n",
    "elif(a==0):\n",
    "    print(\"Zero\")\n",
    "else:\n",
    "    print(\"Negative\")"
   ]
  },
  {
   "cell_type": "markdown",
   "metadata": {},
   "source": [
    "### Leap Year"
   ]
  },
  {
   "cell_type": "code",
   "execution_count": 53,
   "metadata": {},
   "outputs": [
    {
     "name": "stdout",
     "output_type": "stream",
     "text": [
      "enter a year\n",
      "2015\n",
      "Not a Leap Year\n"
     ]
    }
   ],
   "source": [
    "print(\"enter a year\")\n",
    "a=int(input())\n",
    "if(a%4==0):\n",
    "    print(\"Leap Year\")\n",
    "else:\n",
    "    print(\"Not a Leap Year\")"
   ]
  },
  {
   "cell_type": "markdown",
   "metadata": {},
   "source": [
    "### Voting eligibilty\n"
   ]
  },
  {
   "cell_type": "code",
   "execution_count": 59,
   "metadata": {},
   "outputs": [
    {
     "name": "stdout",
     "output_type": "stream",
     "text": [
      "enter your age\n",
      "14\n",
      "Not eligible :(\n",
      "Better try after 4 years\n"
     ]
    }
   ],
   "source": [
    "print(\"enter your age\")\n",
    "a=int(input())\n",
    "if(a>=18):\n",
    "    print(\"Eligible\")\n",
    "else:\n",
    "    print(\"Not eligible :(\")\n",
    "    print(\"Better try after\",18-a, \"years\")\n",
    "    \n"
   ]
  },
  {
   "cell_type": "code",
   "execution_count": 60,
   "metadata": {},
   "outputs": [
    {
     "name": "stdout",
     "output_type": "stream",
     "text": [
      "world\n",
      "haii,hello world !!!\n"
     ]
    }
   ],
   "source": [
    "a=input()\n",
    "print(\"haii,\"\"hello\",a,\"!!!\")"
   ]
  },
  {
   "cell_type": "code",
   "execution_count": null,
   "metadata": {},
   "outputs": [],
   "source": []
  }
 ],
 "metadata": {
  "kernelspec": {
   "display_name": "Python 3",
   "language": "python",
   "name": "python3"
  },
  "language_info": {
   "codemirror_mode": {
    "name": "ipython",
    "version": 3
   },
   "file_extension": ".py",
   "mimetype": "text/x-python",
   "name": "python",
   "nbconvert_exporter": "python",
   "pygments_lexer": "ipython3",
   "version": "3.7.3"
  }
 },
 "nbformat": 4,
 "nbformat_minor": 2
}
